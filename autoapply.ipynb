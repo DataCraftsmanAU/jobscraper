{
 "cells": [
  {
   "cell_type": "code",
   "execution_count": null,
   "metadata": {},
   "outputs": [],
   "source": [
    "# Use machine learning to determine which job listings to apply for\n",
    "from sklearn.feature_extraction.text import TfidfVectorizer\n",
    "from sklearn.linear_model import LogisticRegression\n",
    "\n",
    "# Build the TF-IDF vectorizer\n",
    "vectorizer = TfidfVectorizer()\n",
    "X_train = vectorizer.fit_transform(df['Job Title'] + ' ' + df['Company Name'])\n",
    "y_train = df['Worth Applying For']\n",
    "\n",
    "# Train the logistic regression model\n",
    "clf = LogisticRegression()\n",
    "clf.fit(X_train, y_train)\n",
    "\n",
    "# Predict which job listings to apply for\n",
    "X_test = vectorizer.transform(df['Job Title'] + ' ' + df['Company Name'])\n",
    "y_pred = clf.predict(X_test)\n",
    "df['Worth Applying For'] = y_pred\n",
    "\n",
    "# Print the filtered job listings\n",
    "worth_applying_for = df[df['Worth Applying For'] == 1]\n",
    "print(worth_applying_for)"
   ]
  },
  {
   "cell_type": "code",
   "execution_count": null,
   "metadata": {},
   "outputs": [],
   "source": [
    "# Fill out the job application form\n",
    "for index, row in worth_applying_for.iterrows():\n",
    "    driver.get(row['Job URL'])\n",
    "    time.sleep(2)\n",
    "    apply_button = driver.find_element_by_xpath('//*[@id=\"ember1699\"]/span[1]')\n",
    "    apply_button.click()\n",
    "    time.sleep(2)\n",
    "    easy_apply_button = driver.find_element_by_xpath('//*[@id=\"ember2449\"]/div[2]/div[2]/div[2]/artdeco-modal[1]/div/div/div[3]/button')\n",
    "    easy_apply_button.click()\n",
    "    time.sleep(2)\n",
    "    submit_button = driver.find_element_by_xpath('//*[@id=\"ember2449\"]/div[2]/div[2]/div[2]/artdeco-modal[1]/form/footer/div[2]/button')\n",
    "    submit_button.click()\n",
    "    time.sleep(2)\n",
    "    close_button = driver.find_element_by_xpath('//*[@id=\"ember2449\"]/div[2]/div[2]/div[2]/artdeco-modal[1]/div/div/button')\n",
    "    close_button.click()"
   ]
  }
 ],
 "metadata": {
  "kernelspec": {
   "display_name": "venv",
   "language": "python",
   "name": "python3"
  },
  "language_info": {
   "codemirror_mode": {
    "name": "ipython",
    "version": 3
   },
   "file_extension": ".py",
   "mimetype": "text/x-python",
   "name": "python",
   "nbconvert_exporter": "python",
   "pygments_lexer": "ipython3",
   "version": "3.10.6"
  },
  "orig_nbformat": 4
 },
 "nbformat": 4,
 "nbformat_minor": 2
}
